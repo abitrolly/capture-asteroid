{
 "cells": [
  {
   "cell_type": "code",
   "execution_count": 97,
   "metadata": {
    "collapsed": true
   },
   "outputs": [],
   "source": [
    "import math\n",
    "from collections import OrderedDict\n",
    "from random import random"
   ]
  },
  {
   "cell_type": "markdown",
   "metadata": {},
   "source": [
    "## Snatching asteroids. A hijacking guide to the galaxy!\n",
    "\n",
    "Ahoy, buddy! Welcome to the Earth Pirate Station.\n",
    "\n",
    "The are plenty of loot floating around, so your task as a new crew\n",
    "member is to get acquianted with locating and snatching the best\n",
    "booty.\n",
    "\n",
    " * Search and watch the horizon\n",
    " * Survey to estimate the treasure\n",
    " * Choose the best one\n",
    " * Snatch and\n",
    " * Profit!\n",
    " "
   ]
  },
  {
   "cell_type": "markdown",
   "metadata": {},
   "source": [
    "### Search\n",
    "\n",
    "We've got a map with a label MPCORB on it. The legend here should help to find your way through o\n",
    "\n"
   ]
  },
  {
   "cell_type": "markdown",
   "metadata": {},
   "source": [
    "#### Parsing MPCORB Orbit Database\n",
    "\n"
   ]
  },
  {
   "cell_type": "code",
   "execution_count": null,
   "metadata": {
    "collapsed": true
   },
   "outputs": [],
   "source": []
  },
  {
   "cell_type": "code",
   "execution_count": 102,
   "metadata": {
    "collapsed": false
   },
   "outputs": [],
   "source": [
    "class MPCORB:\n",
    "    \"\"\"class for accessing MRCORB database records\"\"\"\n",
    "    def __init__(self, file='MRCORB.DAT'):\n",
    "        self.file = file\n",
    "\n",
    "class MPOrbit:\n",
    "    \"\"\"parse and process MPCORB entries\n",
    "       http://www.minorplanetcenter.org/iau/info/MPOrbitFormat.html\n",
    "    \"\"\"\n",
    "    def __init__(self, line):\n",
    "        \"\"\"parse line and fill self.data dictionary with fields according\n",
    "           to header line in MPCORB.DAT file. Fix MPCORB format issues:\n",
    "           \n",
    "            - adds header for uncertainty parameter U\n",
    "        \"\"\"\n",
    "        \n",
    "        headerline = \"Des'n  H  G  Epoch  M  Peri.  Node  Incl.  e  n  a  \"\\\n",
    "                     \"Reference  #Obs  #Opp  Arc  rms  Perts  Computer\"\n",
    "        self.headers = headerline.split()\n",
    "        # fill missing Uncertainty header\n",
    "        self.headers.insert(11, 'U')\n",
    "\n",
    "        data = line.split()\n",
    "        # join space separated Perts argument\n",
    "        data[17:19] = [data[17]+' '+data[18]]\n",
    "        for i, h in enumerate(self.headers):\n",
    "            self.data = OrderedDict()\n",
    "            self.data[h] = data[i]\n",
    "\n",
    "    # dict-type access methods: mporbit['h']\n",
    "    def __getitem__(self, name):\n",
    "        return self.data.__getitem__(name)\n",
    "    def __getitem__(self, name):\n",
    "        return self.data.__setitem__(name, value)\n",
    "        \n",
    "\n",
    "def find_semiminor(major, e):\n",
    "    \"\"\"Given semimajor and eccentricity, return semiminor\"\"\"\n",
    "    return float(major)*math.sqrt(1-float(e)**2)\n",
    "\n",
    "def find_diameter(absmag, albedo=0.15):\n",
    "    \"\"\"Return asteroid diameter in km\n",
    "    http://www.physics.sfasu.edu/astro/asteroids/sizemagnitude.html\"\"\"\n",
    "    return (10**(-0.2*float(absmag)))*1329/math.sqrt(albedo)\n",
    "\n",
    "def norm_radius(minr, maxr, minv, maxv, v):\n",
    "    \"\"\"Given minimal/maximum radius, min/max value and value,\n",
    "    return radius.\n",
    "    \"\"\"\n",
    "    return "
   ]
  },
  {
   "cell_type": "code",
   "execution_count": 107,
   "metadata": {
    "collapsed": false
   },
   "outputs": [
    {
     "ename": "TypeError",
     "evalue": "'MPOrbit' object does not support item assignment",
     "output_type": "error",
     "traceback": [
      "\u001b[1;31m---------------------------------------------------------------------------\u001b[0m",
      "\u001b[1;31mTypeError\u001b[0m                                 Traceback (most recent call last)",
      "\u001b[1;32m<ipython-input-107-b633a10078ac>\u001b[0m in \u001b[0;36m<module>\u001b[1;34m()\u001b[0m\n\u001b[0;32m     17\u001b[0m             \u001b[1;32mif\u001b[0m \u001b[0mh\u001b[0m \u001b[1;33m==\u001b[0m \u001b[1;34m'Des\\'n'\u001b[0m\u001b[1;33m:\u001b[0m\u001b[1;33m\u001b[0m\u001b[0m\n\u001b[0;32m     18\u001b[0m                 \u001b[0mh\u001b[0m \u001b[1;33m=\u001b[0m \u001b[1;34m'id'\u001b[0m\u001b[1;33m\u001b[0m\u001b[0m\n\u001b[1;32m---> 19\u001b[1;33m             \u001b[0mentry\u001b[0m\u001b[1;33m[\u001b[0m\u001b[0mh\u001b[0m\u001b[1;33m]\u001b[0m \u001b[1;33m=\u001b[0m \u001b[0mdata\u001b[0m\u001b[1;33m[\u001b[0m\u001b[0mi\u001b[0m\u001b[1;33m]\u001b[0m\u001b[1;33m\u001b[0m\u001b[0m\n\u001b[0m\u001b[0;32m     20\u001b[0m         \u001b[0mentry\u001b[0m\u001b[1;33m[\u001b[0m\u001b[1;34m'semiminor'\u001b[0m\u001b[1;33m]\u001b[0m \u001b[1;33m=\u001b[0m \u001b[0mfind_semiminor\u001b[0m\u001b[1;33m(\u001b[0m\u001b[0mentry\u001b[0m\u001b[1;33m[\u001b[0m\u001b[1;34m'semimajor'\u001b[0m\u001b[1;33m]\u001b[0m\u001b[1;33m,\u001b[0m \u001b[0mentry\u001b[0m\u001b[1;33m[\u001b[0m\u001b[1;34m'e'\u001b[0m\u001b[1;33m]\u001b[0m\u001b[1;33m)\u001b[0m\u001b[1;33m\u001b[0m\u001b[0m\n\u001b[0;32m     21\u001b[0m         \u001b[0mentry\u001b[0m\u001b[1;33m[\u001b[0m\u001b[1;34m'size'\u001b[0m\u001b[1;33m]\u001b[0m \u001b[1;33m=\u001b[0m \u001b[0mfind_diameter\u001b[0m\u001b[1;33m(\u001b[0m\u001b[0mentry\u001b[0m\u001b[1;33m[\u001b[0m\u001b[1;34m'H'\u001b[0m\u001b[1;33m]\u001b[0m\u001b[1;33m)\u001b[0m\u001b[1;33m\u001b[0m\u001b[0m\n",
      "\u001b[1;31mTypeError\u001b[0m: 'MPOrbit' object does not support item assignment"
     ]
    }
   ],
   "source": [
    "table = []\n",
    "headers = []\n",
    "\n",
    "for idx, line in enumerate(open('MPCORB.DAT', 'r')):\n",
    "    if idx == 38:\n",
    "        headers = line.split()\n",
    "        headers.insert(11, 'U') # fill missing Uncertainty header\n",
    "        #print(len(headers))\n",
    "    if 40 < idx < 42+100:\n",
    "        data = line.split()\n",
    "        data[17:19] = [data[17]+' '+data[18]]\n",
    "        entry = MPOrbit(line)\n",
    "        #entry = dict()\n",
    "        for i, h in enumerate(headers):\n",
    "            if h == 'a':\n",
    "                h = 'semimajor'\n",
    "            if h == 'Des\\'n':\n",
    "                h = 'id'\n",
    "            entry[h] = data[i]\n",
    "        entry['semiminor'] = find_semiminor(entry['semimajor'], entry['e'])\n",
    "        entry['size'] = find_diameter(entry['H'])\n",
    "        table.append(entry)\n"
   ]
  },
  {
   "cell_type": "markdown",
   "metadata": {},
   "source": [
    "Output format:\n",
    "\n",
    "```json\n",
    "var asteroids = [\n",
    "  { radius: 0, color: 0 },\n",
    "  { name: 'Vesta', radius: 30, color: 0xFF0000, mass: 1000, fossils: { H2O: 0.1, NH3: 0.2, CH4: 0.1, Ni: 0.01 } },\n",
    "  { name: 'Pallad', radius: 20, color: 0xFFFF22 }\n",
    "];\n",
    "```"
   ]
  },
  {
   "cell_type": "code",
   "execution_count": 106,
   "metadata": {
    "collapsed": false
   },
   "outputs": [
    {
     "name": "stdout",
     "output_type": "stream",
     "text": [
      "00001 737.0201327910924 2.2010449 3.4794344\n",
      "00002 512.2469148423332 2.2010449 3.4794344\n",
      "00003 294.76733257802425 2.2010449 3.4794344\n",
      "00004 786.1028149035884 2.2010449 3.4794344\n",
      "00005 146.37919397264432 2.2010449 3.4794344\n",
      "00006 247.44538103230687 2.2010449 3.4794344\n",
      "00007 271.318465038267 2.2010449 3.4794344\n",
      "00008 172.7743832759794 2.2010449 3.4794344\n",
      "00009 190.31777486026604 2.2010449 3.4794344\n",
      "00010 281.500617213328 2.2010449 3.4794344\n",
      "00011 168.06580167148627 2.2010449 3.4794344\n",
      "00012 122.31489628979887 2.2010449 3.4794344\n",
      "00013 153.98533118019594 2.2010449 3.4794344\n",
      "00014 188.57293101246137 2.2010449 3.4794344\n",
      "00015 301.6333457803826 2.2010449 3.4794344\n",
      "00016 226.71452828784516 2.2010449 3.4794344\n",
      "00017 96.26742414187886 2.2010449 3.4794344\n",
      "00018 171.19037820898708 2.2010449 3.4794344\n",
      "00019 128.67060749751 2.2010449 3.4794344\n",
      "00020 171.98055709247893 2.2010449 3.4794344\n",
      "00021 116.27312674865377 2.2010449 3.4794344\n",
      "00022 175.98649888127383 2.2010449 3.4794344\n",
      "00023 139.79104499166897 2.2010449 3.4794344\n",
      "00024 131.66773096470945 2.2010449 3.4794344\n",
      "00025 93.21361507589089 2.2010449 3.4794344\n",
      "00026 108.51239560529477 2.2010449 3.4794344\n",
      "00027 136.60901232216727 2.2010449 3.4794344\n",
      "00028 131.06277269265516 2.2010449 3.4794344\n",
      "00029 231.9953880451889 2.2010449 3.4794344\n",
      "00030 105.07014979446737 2.2010449 3.4794344\n",
      "00031 153.98533118019594 2.2010449 3.4794344\n",
      "00032 105.55513157043823 2.2010449 3.4794344\n",
      "00033 66.9082007702406 2.2010449 3.4794344\n",
      "00034 68.15211709476294 2.2010449 3.4794344\n",
      "00035 68.46669297430097 2.2010449 3.4794344\n",
      "00036 69.73958383216828 2.2010449 3.4794344\n",
      "00037 119.53066933174124 2.2010449 3.4794344\n",
      "00038 74.38396961160308 2.2010449 3.4794344\n",
      "00039 216.51069365823926 2.2010449 3.4794344\n",
      "00040 136.60901232216727 2.2010449 3.4794344\n",
      "00041 129.2645240367122 2.2010449 3.4794344\n",
      "00042 107.02354972220051 2.2010449 3.4794344\n",
      "00043 89.01831131373174 2.2010449 3.4794344\n",
      "00044 134.7346664056948 2.2010449 3.4794344\n",
      "00045 110.52979166067468 2.2010449 3.4794344\n",
      "00046 73.02630915985239 2.2010449 3.4794344\n",
      "00047 92.78533741746176 2.2010449 3.4794344\n",
      "00048 143.04719672357848 2.2010449 3.4794344\n",
      "00049 94.51034563112196 2.2010449 3.4794344\n",
      "00050 48.69443727847629 2.2010449 3.4794344\n",
      "00051 116.27312674865377 2.2010449 3.4794344\n",
      "00052 187.70651709565982 2.2010449 3.4794344\n",
      "00053 59.35801256796187 2.2010449 3.4794344\n",
      "00054 100.80436806628575 2.2010449 3.4794344\n",
      "00055 98.96448099650542 2.2010449 3.4794344\n",
      "00056 74.72731041540476 2.2010449 3.4794344\n",
      "00057 134.7346664056948 2.2010449 3.4794344\n",
      "00058 58.00685924337516 2.2010449 3.4794344\n",
      "00059 89.01831131373174 2.2010449 3.4794344\n",
      "00060 78.24910005503162 2.2010449 3.4794344\n",
      "00061 99.8801880648043 2.2010449 3.4794344\n",
      "00062 60.740638296508344 2.2010449 3.4794344\n",
      "00063 106.0423519205758 2.2010449 3.4794344\n",
      "00064 100.34121406587809 2.2010449 3.4794344\n",
      "00065 162.73439415329497 2.2010449 3.4794344\n",
      "00066 46.07648610469008 2.2010449 3.4794344\n",
      "00067 75.76687085565808 2.2010449 3.4794344\n",
      "00068 151.17478214140843 2.2010449 3.4794344\n",
      "00069 133.49941155923284 2.2010449 3.4794344\n",
      "00070 81.9368665269149 2.2010449 3.4794344\n",
      "00071 118.98147579246931 2.2010449 3.4794344\n",
      "00072 55.90869450803538 2.2010449 3.4794344\n",
      "00073 56.948114743233305 2.2010449 3.4794344\n",
      "00074 63.60325638710762 2.2010449 3.4794344\n",
      "00075 55.396120515812264 2.2010449 3.4794344\n",
      "00076 90.25667938004489 2.2010449 3.4794344\n",
      "00077 67.83898656010264 2.2010449 3.4794344\n",
      "00078 82.6950190183689 2.2010449 3.4794344\n",
      "00079 87.7969342942663 2.2010449 3.4794344\n",
      "00080 86.9920071624104 2.2010449 3.4794344\n",
      "00081 69.1002074844395 2.2010449 3.4794344\n",
      "00082 71.6934288040265 2.2010449 3.4794344\n",
      "00083 63.60325638710762 2.2010449 3.4794344\n",
      "00084 46.93311193803248 2.2010449 3.4794344\n",
      "00085 103.15240343351996 2.2010449 3.4794344\n",
      "00086 67.21703499290082 2.2010449 3.4794344\n",
      "00087 140.4362911381482 2.2010449 3.4794344\n",
      "00088 134.11561684527942 2.2010449 3.4794344\n",
      "00089 164.24015696315365 2.2010449 3.4794344\n",
      "00090 76.11659484157803 2.2010449 3.4794344\n",
      "00091 58.54359010362039 2.2010449 3.4794344\n",
      "00092 163.48554198778828 2.2010449 3.4794344\n",
      "00093 90.25667938004489 2.2010449 3.4794344\n",
      "00094 105.07014979446737 2.2010449 3.4794344\n",
      "00095 86.19445964685667 2.2010449 3.4794344\n",
      "00096 100.34121406587809 2.2010449 3.4794344\n",
      "00097 102.20669651439805 2.2010449 3.4794344\n",
      "00098 58.54359010362039 2.2010449 3.4794344\n",
      "00099 44.61484118950052 2.2010449 3.4794344\n",
      "00100 100.34121406587809 2.2010449 3.4794344\n",
      "00101 74.04220631550106 2.2010449 3.4794344\n"
     ]
    }
   ],
   "source": [
    "minv = min(e['semimajor'] for e in table)\n",
    "maxv = max(e['semimajor'] for e in table)\n",
    "\n",
    "asteroids = []\n",
    "aheaders = 'id', 'size'\n",
    "\n",
    "for e in table:\n",
    "    a = OrderedDict()\n",
    "    a['id'] = e['id']\n",
    "    a['size'] = e['size']\n",
    "\n",
    "    a['mission01'] = random()\n",
    "\n",
    "    \n",
    "    #e[radius] = norm_radius()\n",
    "    print(e['id'], e['size'], minv, maxv)\n"
   ]
  },
  {
   "cell_type": "code",
   "execution_count": null,
   "metadata": {
    "collapsed": true
   },
   "outputs": [],
   "source": []
  },
  {
   "cell_type": "code",
   "execution_count": null,
   "metadata": {
    "collapsed": true
   },
   "outputs": [],
   "source": []
  }
 ],
 "metadata": {
  "kernelspec": {
   "display_name": "Python 3",
   "language": "python",
   "name": "python3"
  },
  "language_info": {
   "codemirror_mode": {
    "name": "ipython",
    "version": 3
   },
   "file_extension": ".py",
   "mimetype": "text/x-python",
   "name": "python",
   "nbconvert_exporter": "python",
   "pygments_lexer": "ipython3",
   "version": "3.5.1"
  }
 },
 "nbformat": 4,
 "nbformat_minor": 0
}
